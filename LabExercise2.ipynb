{
 "cells": [
  {
   "cell_type": "code",
   "execution_count": 13,
   "id": "b7ac6546-7014-4cb3-8b93-2c968b7dfa3b",
   "metadata": {},
   "outputs": [
    {
     "name": "stdout",
     "output_type": "stream",
     "text": [
      "   id        first       last  gender  Marks  selected\n",
      "0   1        Leone    Debrick  Female     50      True\n",
      "1   2       Romola  Phinnessy  Female     60     False\n",
      "2   3         Geri      Prium    Male     65     False\n",
      "3   4        Sandy   Doveston  Female     95     False\n",
      "4   5      Jacenta     Jansik  Female     31      True\n",
      "5   6  Diane-marie   Medhurst  Female     45      True\n",
      "6   7       Austen       Pool    Male     45      True\n",
      "7   8        Vanya    Teffrey    Male     70     False\n",
      "8   9     Giordano      Elloy    Male     36     False\n",
      "9  10       Rozele    Fawcett  Female     50     False\n"
     ]
    }
   ],
   "source": [
    "import pandas as pd\n",
    "cols=[\"id\",\"first\",\"last\",\"gender\",\"Marks\",\"selected\"]\n",
    "df=pd.read_csv(\"sample.csv\",usecols=cols)\n",
    "print(df)"
   ]
  },
  {
   "cell_type": "code",
   "execution_count": 23,
   "id": "44f34074-6e01-4cba-a4ec-670bbb65954f",
   "metadata": {},
   "outputs": [
    {
     "name": "stdout",
     "output_type": "stream",
     "text": [
      "   id        first       last  gender     Marks  selected\n",
      "0   1        Leone    Debrick       0 -0.265401      True\n",
      "1   2       Romola  Phinnessy       0  0.299282     False\n",
      "2   3         Geri      Prium       1  0.581624     False\n",
      "3   4        Sandy   Doveston       0  2.275674     False\n",
      "4   5      Jacenta     Jansik       0 -1.338300      True\n",
      "5   6  Diane-marie   Medhurst       0 -0.547743      True\n",
      "6   7       Austen       Pool       1 -0.547743      True\n",
      "7   8        Vanya    Teffrey       1  0.863966     False\n",
      "8   9     Giordano      Elloy       1 -1.055958     False\n",
      "9  10       Rozele    Fawcett       0 -0.265401     False\n"
     ]
    }
   ],
   "source": [
    "#LabelEncoder for gender Male-1,female-0\n",
    "\n",
    "from sklearn.preprocessing import LabelEncoder\n",
    "df.gender=LabelEncoder().fit_transform(df.gender)\n",
    "print(df)"
   ]
  },
  {
   "cell_type": "code",
   "execution_count": 31,
   "id": "eebecae5-850b-4ea0-a600-a90b879bf203",
   "metadata": {},
   "outputs": [
    {
     "name": "stdout",
     "output_type": "stream",
     "text": [
      "   id        first       last  gender  Marks  selected\n",
      "0   1        Leone    Debrick       0    0.0         1\n",
      "1   2       Romola  Phinnessy       0    0.0         0\n",
      "2   3         Geri      Prium       1    1.0         0\n",
      "3   4        Sandy   Doveston       0    1.0         0\n",
      "4   5      Jacenta     Jansik       0    0.0         1\n",
      "5   6  Diane-marie   Medhurst       0    0.0         1\n",
      "6   7       Austen       Pool       1    0.0         1\n",
      "7   8        Vanya    Teffrey       1    1.0         0\n",
      "8   9     Giordano      Elloy       1    0.0         0\n",
      "9  10       Rozele    Fawcett       0    0.0         0\n"
     ]
    }
   ],
   "source": [
    "df.selected=LabelEncoder().fit_transform(df.selected)\n",
    "print(df)"
   ]
  },
  {
   "cell_type": "code",
   "execution_count": 33,
   "id": "5ce5f0d4-cae5-4115-a260-7fc2948e3331",
   "metadata": {},
   "outputs": [
    {
     "name": "stdout",
     "output_type": "stream",
     "text": [
      "   id        first       last  gender     Marks  selected\n",
      "0   1        Leone    Debrick       0 -0.654654         1\n",
      "1   2       Romola  Phinnessy       0 -0.654654         0\n",
      "2   3         Geri      Prium       1  1.527525         0\n",
      "3   4        Sandy   Doveston       0  1.527525         0\n",
      "4   5      Jacenta     Jansik       0 -0.654654         1\n",
      "5   6  Diane-marie   Medhurst       0 -0.654654         1\n",
      "6   7       Austen       Pool       1 -0.654654         1\n",
      "7   8        Vanya    Teffrey       1  1.527525         0\n",
      "8   9     Giordano      Elloy       1 -0.654654         0\n",
      "9  10       Rozele    Fawcett       0 -0.654654         0\n"
     ]
    }
   ],
   "source": [
    "#Scaling of marks\n",
    "from sklearn import preprocessing\n",
    "df.Marks=preprocessing.scale(df.Marks)\n",
    "scaled_df=preprocessing.scale(df.Marks)\n",
    "print(df)"
   ]
  },
  {
   "cell_type": "code",
   "execution_count": 35,
   "id": "a73ee957-4773-473d-a7b9-e8b3294389bb",
   "metadata": {},
   "outputs": [
    {
     "name": "stdout",
     "output_type": "stream",
     "text": [
      "   id        first       last  gender  Marks  selected\n",
      "0   1        Leone    Debrick       0    0.0         1\n",
      "1   2       Romola  Phinnessy       0    0.0         0\n",
      "2   3         Geri      Prium       1    1.0         0\n",
      "3   4        Sandy   Doveston       0    1.0         0\n",
      "4   5      Jacenta     Jansik       0    0.0         1\n",
      "5   6  Diane-marie   Medhurst       0    0.0         1\n",
      "6   7       Austen       Pool       1    0.0         1\n",
      "7   8        Vanya    Teffrey       1    1.0         0\n",
      "8   9     Giordano      Elloy       1    0.0         0\n",
      "9  10       Rozele    Fawcett       0    0.0         0\n"
     ]
    }
   ],
   "source": [
    "#Binarizarion of marks\n",
    "newarr=scaled_df.reshape(-1,1)\n",
    "scaled_df_bin=preprocessing.Binarizer(threshold=0.5).transform(newarr)\n",
    "df['Marks']=scaled_df_bin\n",
    "print(df)"
   ]
  },
  {
   "cell_type": "code",
   "execution_count": 38,
   "id": "895dc7c7-2f01-4491-ba9f-95546a062b46",
   "metadata": {},
   "outputs": [
    {
     "name": "stdout",
     "output_type": "stream",
     "text": [
      "    id        first       last  gender  Marks  selected\n",
      "0    1        Leone    Debrick       0    0.0         1\n",
      "1    2       Romola  Phinnessy       0    0.0         0\n",
      "2    3         Geri      Prium       1    1.0         0\n",
      "3    4        Sandy   Doveston       0    1.0         0\n",
      "4    5      Jacenta     Jansik       0    0.0         1\n",
      "5    6  Diane-marie   Medhurst       0    0.0         1\n",
      "6    7       Austen       Pool       1    0.0         1\n",
      "7    8        Vanya    Teffrey       1    1.0         0\n",
      "8    9     Giordano      Elloy       1    0.0         0\n",
      "9   10       Rozele    Fawcett       0    0.0         0\n",
      "10   1        Leone    Debrick       0    0.0         1\n",
      "11   2       Romola  Phinnessy       0    0.0         0\n",
      "12   3         Geri      Prium       1    1.0         0\n",
      "13   4        Sandy   Doveston       0    1.0         0\n",
      "14   5      Jacenta     Jansik       0    0.0         1\n",
      "15   6  Diane-marie   Medhurst       0    0.0         1\n",
      "16   7       Austen       Pool       1    0.0         1\n",
      "17   8        Vanya    Teffrey       1    1.0         0\n",
      "18   9     Giordano      Elloy       1    0.0         0\n",
      "19  10       Rozele    Fawcett       0    0.0         0\n"
     ]
    }
   ],
   "source": [
    "#Creating duplicate data\n",
    "df_duplicated=pd.concat([df]*2,ignore_index=True)\n",
    "print(df_duplicated)"
   ]
  },
  {
   "cell_type": "code",
   "execution_count": 46,
   "id": "1e741cae-dc79-4d87-b896-24906b95b966",
   "metadata": {},
   "outputs": [
    {
     "name": "stdout",
     "output_type": "stream",
     "text": [
      "   id        first       last  gender  Marks  selected\n",
      "0   1        Leone    Debrick       0    0.0         1\n",
      "1   2       Romola  Phinnessy       0    0.0         0\n",
      "2   3         Geri      Prium       1    1.0         0\n",
      "3   4        Sandy   Doveston       0    1.0         0\n",
      "4   5      Jacenta     Jansik       0    0.0         1\n",
      "5   6  Diane-marie   Medhurst       0    0.0         1\n",
      "6   7       Austen       Pool       1    0.0         1\n",
      "7   8        Vanya    Teffrey       1    1.0         0\n",
      "8   9     Giordano      Elloy       1    0.0         0\n",
      "9  10       Rozele    Fawcett       0    0.0         0\n"
     ]
    }
   ],
   "source": [
    "#Remove duplication\n",
    "df_duplicate_removed=pd.DataFrame.drop_duplicates(df_duplicated)\n",
    "print(df_duplicate_removed)"
   ]
  },
  {
   "cell_type": "code",
   "execution_count": 56,
   "id": "852a8404-b404-40c7-89dc-490a6d6eb289",
   "metadata": {},
   "outputs": [
    {
     "name": "stdout",
     "output_type": "stream",
     "text": [
      "     m1    m2    m3    m4    m5\n",
      "0  50.0  60.0  50.0  60.0   NaN\n",
      "1   NaN   NaN  70.0   NaN   NaN\n",
      "2  60.0  60.0   NaN   NaN   NaN\n",
      "3   NaN   NaN   NaN   NaN  10.0\n",
      "4  80.0  80.0  60.0  60.0  20.0\n"
     ]
    }
   ],
   "source": [
    "#Dataframes with NaN\n",
    "\n",
    "df1=pd.DataFrame({\n",
    "     'm1':[50,'A',60,'A',80],\n",
    "     'm2':[60,'A',60,'A',80],\n",
    "     'm3':[50,70,'A','A',60],\n",
    "     'm4':[60,'A','A','A',60],\n",
    "     'm5':['A','A','A',10,20]\n",
    "    })\n",
    "df1=df1.apply(pd.to_numeric,errors='coerce')\n",
    "print(df1)"
   ]
  },
  {
   "cell_type": "code",
   "execution_count": 58,
   "id": "ef8341dc-d910-4f30-8634-e5fca24d9612",
   "metadata": {},
   "outputs": [
    {
     "name": "stdout",
     "output_type": "stream",
     "text": [
      "     m1    m2    m3    m4    m5\n",
      "0  50.0  60.0  50.0  60.0   0.0\n",
      "1   NaN   NaN  70.0   NaN   0.0\n",
      "2  60.0  60.0   NaN   NaN   0.0\n",
      "3   NaN   NaN   NaN   NaN  10.0\n",
      "4  80.0  80.0  60.0  60.0  20.0\n"
     ]
    }
   ],
   "source": [
    "#Make NaN in m5 as zero\n",
    "\n",
    "df1['m5']=df1['m5'].fillna(0)\n",
    "print(df1)"
   ]
  },
  {
   "cell_type": "code",
   "execution_count": 60,
   "id": "94643fa9-b1f0-4bd0-b628-a14663cdf6f4",
   "metadata": {},
   "outputs": [
    {
     "name": "stdout",
     "output_type": "stream",
     "text": [
      "     m1         m2    m3    m4    m5\n",
      "0  50.0  60.000000  50.0  60.0   0.0\n",
      "1   NaN  66.666667  70.0   NaN   0.0\n",
      "2  60.0  60.000000   NaN   NaN   0.0\n",
      "3   NaN  66.666667   NaN   NaN  10.0\n",
      "4  80.0  80.000000  60.0  60.0  20.0\n"
     ]
    },
    {
     "name": "stderr",
     "output_type": "stream",
     "text": [
      "C:\\Users\\Poornima\\AppData\\Local\\Temp\\ipykernel_19356\\2928661295.py:3: FutureWarning: A value is trying to be set on a copy of a DataFrame or Series through chained assignment using an inplace method.\n",
      "The behavior will change in pandas 3.0. This inplace method will never work because the intermediate object on which we are setting values always behaves as a copy.\n",
      "\n",
      "For example, when doing 'df[col].method(value, inplace=True)', try using 'df.method({col: value}, inplace=True)' or df[col] = df[col].method(value) instead, to perform the operation inplace on the original object.\n",
      "\n",
      "\n",
      "  df2['m2'].fillna(df2['m2'].mean(),inplace=True)\n"
     ]
    }
   ],
   "source": [
    "#Making m2 NaN as mean\n",
    "df2=df1.copy()\n",
    "df2['m2'].fillna(df2['m2'].mean(),inplace=True)\n",
    "print(df2)"
   ]
  },
  {
   "cell_type": "code",
   "execution_count": 62,
   "id": "7555d97e-cac2-4771-8d98-5a691bfa3707",
   "metadata": {},
   "outputs": [
    {
     "name": "stdout",
     "output_type": "stream",
     "text": [
      "     m1    m2    m3    m4    m5\n",
      "0  50.0  60.0  50.0  60.0   0.0\n",
      "1   NaN   NaN  70.0   NaN   0.0\n",
      "2  60.0  60.0  60.0   NaN   0.0\n",
      "3   NaN   NaN  60.0   NaN  10.0\n",
      "4  80.0  80.0  60.0  60.0  20.0\n"
     ]
    },
    {
     "name": "stderr",
     "output_type": "stream",
     "text": [
      "C:\\Users\\Poornima\\AppData\\Local\\Temp\\ipykernel_19356\\1381836900.py:3: FutureWarning: A value is trying to be set on a copy of a DataFrame or Series through chained assignment using an inplace method.\n",
      "The behavior will change in pandas 3.0. This inplace method will never work because the intermediate object on which we are setting values always behaves as a copy.\n",
      "\n",
      "For example, when doing 'df[col].method(value, inplace=True)', try using 'df.method({col: value}, inplace=True)' or df[col] = df[col].method(value) instead, to perform the operation inplace on the original object.\n",
      "\n",
      "\n",
      "  df3['m3'].fillna(df3['m3'].median(),inplace=True)\n"
     ]
    }
   ],
   "source": [
    "#Making m3 NaN as median\n",
    "df3=df1.copy()\n",
    "df3['m3'].fillna(df3['m3'].median(),inplace=True)\n",
    "print(df3)"
   ]
  },
  {
   "cell_type": "code",
   "execution_count": 66,
   "id": "6f39100d-6429-4fad-91e0-5775ad137a25",
   "metadata": {},
   "outputs": [
    {
     "name": "stdout",
     "output_type": "stream",
     "text": [
      "     m5\n",
      "0   0.0\n",
      "1   0.0\n",
      "2   0.0\n",
      "3  10.0\n",
      "4  20.0\n"
     ]
    }
   ],
   "source": [
    "#Dropping all the columns having NaN\n",
    "df1=df1.dropna(axis=1)\n",
    "print(df1)"
   ]
  },
  {
   "cell_type": "code",
   "execution_count": 68,
   "id": "625ecd33-d24f-49c7-a7bf-3ac63c63273e",
   "metadata": {},
   "outputs": [
    {
     "name": "stdout",
     "output_type": "stream",
     "text": [
      "Original Data:\n",
      " [[1 2]\n",
      " [3 5]\n",
      " [6 7]\n",
      " [8 9]]\n"
     ]
    }
   ],
   "source": [
    "#MinMax Scaling And Standard Scaling\n",
    "\n",
    "from numpy import asarray\n",
    "from sklearn.preprocessing import MinMaxScaler\n",
    "from sklearn.preprocessing import StandardScaler\n",
    "\n",
    "data=asarray([[1,2],[3,5],[6,7],[8,9]])\n",
    "print(\"Original Data:\\n\",data)"
   ]
  },
  {
   "cell_type": "code",
   "execution_count": 73,
   "id": "45656334-9f27-4ce0-b7a9-d2463fbe59d5",
   "metadata": {},
   "outputs": [
    {
     "name": "stdout",
     "output_type": "stream",
     "text": [
      "MinMax Scaling:\n",
      " [[0.         0.        ]\n",
      " [0.28571429 0.42857143]\n",
      " [0.71428571 0.71428571]\n",
      " [1.         1.        ]]\n",
      "Standard Scaling:\n",
      " [[-1.29986737 -1.45010473]\n",
      " [-0.55708601 -0.29002095]\n",
      " [ 0.55708601  0.48336824]\n",
      " [ 1.29986737  1.25675744]]\n"
     ]
    }
   ],
   "source": [
    "scaler1=MinMaxScaler()\n",
    "scaler2=StandardScaler()\n",
    "\n",
    "scaled1=scaler1.fit_transform(data)\n",
    "scaled2=scaler2.fit_transform(data)\n",
    "\n",
    "print(\"MinMax Scaling:\\n\",scaled1)\n",
    "print(\"Standard Scaling:\\n\",scaled2)"
   ]
  },
  {
   "cell_type": "code",
   "execution_count": null,
   "id": "7a851a51-a979-42d9-a9b3-21c72b99d2fa",
   "metadata": {},
   "outputs": [],
   "source": []
  }
 ],
 "metadata": {
  "kernelspec": {
   "display_name": "Python 3 (ipykernel)",
   "language": "python",
   "name": "python3"
  },
  "language_info": {
   "codemirror_mode": {
    "name": "ipython",
    "version": 3
   },
   "file_extension": ".py",
   "mimetype": "text/x-python",
   "name": "python",
   "nbconvert_exporter": "python",
   "pygments_lexer": "ipython3",
   "version": "3.12.4"
  }
 },
 "nbformat": 4,
 "nbformat_minor": 5
}
