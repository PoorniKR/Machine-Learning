{
 "cells": [
  {
   "cell_type": "code",
   "execution_count": 7,
   "id": "a3825265-6297-4a67-bb26-3022ab529035",
   "metadata": {},
   "outputs": [
    {
     "name": "stdout",
     "output_type": "stream",
     "text": [
      "   id        first       last  gender  Marks  selected\n",
      "0   1        Leone    Debrick  Female     50      True\n",
      "1   2       Romola  Phinnessy  Female     60     False\n",
      "2   3         Geri      Prium    Male     65     False\n",
      "3   4        Sandy   Doveston  Female     95     False\n",
      "4   5      Jacenta     Jansik  Female     31      True\n",
      "5   6  Diane-marie   Medhurst  Female     45      True\n",
      "6   7       Austen       Pool    Male     45      True\n",
      "7   8        Vanya    Teffrey    Male     70     False\n",
      "8   9     Giordano      Elloy    Male     36     False\n",
      "9  10       Rozele    Fawcett  Female     50     False\n"
     ]
    }
   ],
   "source": [
    "import pandas as pd\n",
    "col_list=[\"id\",\"first\",\"last\",\"gender\",\"Marks\",\"selected\"]\n",
    "df=pd.read_csv(\"sample.csv\",usecols=col_list)\n",
    "print(df)"
   ]
  },
  {
   "cell_type": "code",
   "execution_count": 8,
   "id": "3f6a1bdf-3d77-4e2e-81ee-44ee2a4f6111",
   "metadata": {},
   "outputs": [
    {
     "name": "stdout",
     "output_type": "stream",
     "text": [
      "Mean 54.7\n",
      "Median 50.0\n",
      "Mode 0    45\n",
      "1    50\n",
      "Name: Marks, dtype: int64\n",
      "Sum 547\n",
      "Maximum 95\n",
      "Minimum 31\n",
      "Count 10\n",
      "Standard Deviation 18.666964283341724\n",
      "Variance 348.4555555555555\n"
     ]
    }
   ],
   "source": [
    "#Statistical operation\n",
    "mean1=df['Marks'].mean()\n",
    "median1=df['Marks'].median()\n",
    "mode1=df['Marks'].mode()\n",
    "sum1=df['Marks'].sum()\n",
    "max1=df['Marks'].max()\n",
    "min1=df['Marks'].min()\n",
    "count1=df['Marks'].count()\n",
    "sd1=df['Marks'].std()\n",
    "var1=df['Marks'].var()\n",
    "\n",
    "print(\"Mean\",mean1)\n",
    "print(\"Median\",median1)\n",
    "print(\"Mode\",mode1)\n",
    "print(\"Sum\",sum1)\n",
    "print(\"Maximum\",max1)\n",
    "print(\"Minimum\",min1)\n",
    "print(\"Count\",count1)\n",
    "print(\"Standard Deviation\",sd1)\n",
    "print(\"Variance\",var1)"
   ]
  },
  {
   "cell_type": "code",
   "execution_count": 13,
   "id": "50b3fbe8-b4be-4014-9b42-ab8d1171d31c",
   "metadata": {},
   "outputs": [
    {
     "name": "stdout",
     "output_type": "stream",
     "text": [
      "Shape: (10, 6)\n",
      "Dataset:\n",
      "    id    first       last  gender  Marks  selected\n",
      "0   1    Leone    Debrick  Female     50      True\n",
      "1   2   Romola  Phinnessy  Female     60     False\n",
      "2   3     Geri      Prium    Male     65     False\n",
      "3   4    Sandy   Doveston  Female     95     False\n",
      "4   5  Jacenta     Jansik  Female     31      True\n",
      "Desciption:\n",
      "              id      Marks\n",
      "count  10.00000  10.000000\n",
      "mean    5.50000  54.700000\n",
      "std     3.02765  18.666964\n",
      "min     1.00000  31.000000\n",
      "25%     3.25000  45.000000\n",
      "50%     5.50000  50.000000\n",
      "75%     7.75000  63.750000\n",
      "max    10.00000  95.000000\n"
     ]
    }
   ],
   "source": [
    "#Explore dataset and describe command\n",
    "print(\"Shape:\",df.shape)\n",
    "print(\"Dataset:\\n\",df.head(5))\n",
    "print(\"Desciption:\\n\",df.describe())"
   ]
  },
  {
   "cell_type": "code",
   "execution_count": 22,
   "id": "e62fa589-4c04-419a-b776-be97cd48e0f9",
   "metadata": {},
   "outputs": [
    {
     "name": "stdout",
     "output_type": "stream",
     "text": [
      "Details of data:\n",
      " DescribeResult(nobs=10, minmax=(31, 95), mean=54.7, variance=348.4555555555556, skewness=0.8713018064150744, kurtosis=0.2139619092784093)\n",
      "\n",
      "Cumulative frequency:\n",
      " CumfreqResult(cumcount=array([ 1.,  2.,  4.,  6.,  7.,  9.,  9.,  9.,  9., 10.]), lowerlimit=27.444444444444443, binsize=7.111111111111114, extrapoints=0)\n",
      "\n",
      "Geometric mean of data:\n",
      " 52.07047606442808\n",
      "\n",
      "Harmonic mean of data:\n",
      " 49.66634179770391\n",
      "\n",
      "IQR of data:\n",
      " 18.75\n",
      "\n",
      "Z-score of data:\n",
      " 0   -0.265401\n",
      "1    0.299282\n",
      "2    0.581624\n",
      "3    2.275674\n",
      "4   -1.338300\n",
      "5   -0.547743\n",
      "6   -0.547743\n",
      "7    0.863966\n",
      "8   -1.055958\n",
      "9   -0.265401\n",
      "Name: Marks, dtype: float64\n",
      "\n",
      "Skewness of data:\n",
      " 0.8713018064150744\n",
      "\n",
      "Kurtosis of data:\n",
      " 0.2139619092784093\n"
     ]
    }
   ],
   "source": [
    "#Univariate and Bivariate\n",
    "from scipy import stats\n",
    "\n",
    "print(\"Details of data:\\n\",stats.describe(df['Marks']))\n",
    "print(\"\\nCumulative frequency:\\n\",stats.cumfreq(df['Marks']))\n",
    "print(\"\\nGeometric mean of data:\\n\",stats.gmean(df['Marks']))\n",
    "print(\"\\nHarmonic mean of data:\\n\",stats.hmean(df['Marks']))\n",
    "print(\"\\nIQR of data:\\n\",stats.iqr(df['Marks']))\n",
    "print(\"\\nZ-score of data:\\n\",stats.zscore(df['Marks']))\n",
    "print(\"\\nSkewness of data:\\n\",stats.skew(df['Marks']))\n",
    "print(\"\\nKurtosis of data:\\n\",stats.kurtosis(df['Marks']))"
   ]
  },
  {
   "cell_type": "code",
   "execution_count": 23,
   "id": "20ca5dbc-09ce-40b0-8bac-0390175cf857",
   "metadata": {},
   "outputs": [
    {
     "name": "stdout",
     "output_type": "stream",
     "text": [
      "Spearman Correlation: SignificanceResult(statistic=1.0, pvalue=0.0)\n"
     ]
    }
   ],
   "source": [
    "#Correlation of data\n",
    "\n",
    "data1 = [1,2,3,6,8,10]\n",
    "data2 = [2,3,4,5,9,12]\n",
    "print(\"Spearman Correlation:\",stats.spearmanr(data1,data2))"
   ]
  },
  {
   "cell_type": "code",
   "execution_count": null,
   "id": "c9234666-d44f-466b-9587-dae8a048e04d",
   "metadata": {},
   "outputs": [],
   "source": []
  }
 ],
 "metadata": {
  "kernelspec": {
   "display_name": "Python 3 (ipykernel)",
   "language": "python",
   "name": "python3"
  },
  "language_info": {
   "codemirror_mode": {
    "name": "ipython",
    "version": 3
   },
   "file_extension": ".py",
   "mimetype": "text/x-python",
   "name": "python",
   "nbconvert_exporter": "python",
   "pygments_lexer": "ipython3",
   "version": "3.12.4"
  }
 },
 "nbformat": 4,
 "nbformat_minor": 5
}
